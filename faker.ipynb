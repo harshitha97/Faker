{
 "cells": [
  {
   "cell_type": "code",
   "execution_count": 1,
   "metadata": {},
   "outputs": [],
   "source": [
    "# !pip install faker"
   ]
  },
  {
   "cell_type": "code",
   "execution_count": 3,
   "metadata": {},
   "outputs": [
    {
     "name": "stdout",
     "output_type": "stream",
     "text": [
      "\n",
      "Generated Data:\n",
      "\n",
      "               name                          address           city  \\\n",
      "0        John Adams               512 Nielsen Corner   Lake Jessica   \n",
      "1  Gregory Mcknight  8798 Robert Trafficway Apt. 399       Mossside   \n",
      "2  Caroline Bradley       46929 George Keys Apt. 491    Lake Steven   \n",
      "3    Tyler Thompson       27664 Brown Forge Apt. 624     Harrisbury   \n",
      "4     Joseph Burton      703 Hodges Greens Suite 403    East Daniel   \n",
      "5        Dana Jones                 61601 Mary Shore      Webbburgh   \n",
      "6      Erik Sanders      06611 Jessica Way Suite 178     Calvinfort   \n",
      "7    Candice George          2972 Christopher Course  Lake Loriside   \n",
      "8   Jennifer Miller      3093 Yvette Corner Apt. 600      Tammytown   \n",
      "9     Cody Phillips   51010 Timothy Valleys Apt. 552  Angelicamouth   \n",
      "\n",
      "            state zipcode          phone                      email  \\\n",
      "0         Alabama   59851  8863126169134         nlewis@example.net   \n",
      "1  North Carolina   46708  2861596385018         john77@example.net   \n",
      "2        Oklahoma   61017  3365075611382        hgordon@example.com   \n",
      "3    Pennsylvania   68316  7123006645218     darrenpark@example.net   \n",
      "4        Maryland   77081  9819163538287      jonesjohn@example.org   \n",
      "5        Arkansas   47370  1325478943213  christopher21@example.net   \n",
      "6        Kentucky   67468  0427248491533        kevin73@example.org   \n",
      "7        Delaware   72481  9028981174272       harold93@example.com   \n",
      "8        Virginia   45410  5318737244790    mcdanielroy@example.com   \n",
      "9          Hawaii   36083  7580428396965       ovasquez@example.org   \n",
      "\n",
      "                             website  \n",
      "0               https://webster.com/  \n",
      "1           http://www.gonzales.com/  \n",
      "2                 http://abbott.com/  \n",
      "3  https://www.hamilton-farrell.org/  \n",
      "4       http://www.davis-barnes.com/  \n",
      "5              http://www.weber.com/  \n",
      "6            https://www.conway.com/  \n",
      "7    http://www.williams-thomas.com/  \n",
      "8              http://www.watts.com/  \n",
      "9          http://harris-knight.com/  \n"
     ]
    }
   ],
   "source": [
    "from faker import Faker\n",
    "import pandas as pd\n",
    "fake = Faker()\n",
    "\n",
    "def generate_data(num):\n",
    "    \n",
    "    # Initialize empty list to store data\n",
    "    data = []\n",
    "    \n",
    "    # Generate 'n' number of records\n",
    "    for i in range(num):\n",
    "        \n",
    "        # Create dictionary for each record\n",
    "        row = {\n",
    "            'name': fake.name(),\n",
    "            'address': fake.street_address(),\n",
    "            'city': fake.city(),\n",
    "            'state': fake.state(),\n",
    "            'zipcode': fake.postalcode(),\n",
    "            'phone': fake.msisdn(),\n",
    "            'email': fake.ascii_safe_email(),\n",
    "            'website': fake.url(),\n",
    "        }\n",
    "        \n",
    "        # Append current record to data list\n",
    "        data.append(row)\n",
    "        \n",
    "    return data\n",
    "\n",
    "if __name__ == \"__main__\":\n",
    "    num_records = int(input(\"Enter the number of records to generate:\"))\n",
    "    result = generate_data(num=num_records)\n",
    "    results = pd.DataFrame(result)\n",
    "    print(\"\\nGenerated Data:\\n\")\n",
    "    print(results)\n"
   ]
  },
  {
   "cell_type": "code",
   "execution_count": null,
   "metadata": {},
   "outputs": [],
   "source": []
  }
 ],
 "metadata": {
  "kernelspec": {
   "display_name": "Python 3.9.7 ('base')",
   "language": "python",
   "name": "python3"
  },
  "language_info": {
   "codemirror_mode": {
    "name": "ipython",
    "version": 3
   },
   "file_extension": ".py",
   "mimetype": "text/x-python",
   "name": "python",
   "nbconvert_exporter": "python",
   "pygments_lexer": "ipython3",
   "version": "3.9.7"
  },
  "orig_nbformat": 4,
  "vscode": {
   "interpreter": {
    "hash": "067b19bc2dc87b306e0419e03d9ce0008532baeb6a99f5038e8f0ace2032431b"
   }
  }
 },
 "nbformat": 4,
 "nbformat_minor": 2
}
